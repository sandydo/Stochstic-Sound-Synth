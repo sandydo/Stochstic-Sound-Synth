{
 "cells": [
  {
   "cell_type": "markdown",
   "metadata": {},
   "source": [
    "This is the simulation of the stochastic Wave equation with multiplicative noise.\n",
    "We want to simulate a wave on the spatial domain [0,1] and time domain [0,1]"
   ]
  },
  {
   "cell_type": "code",
   "execution_count": 1,
   "metadata": {},
   "outputs": [
    {
     "name": "stderr",
     "output_type": "stream",
     "text": [
      "/home/thomas_schnake/virt3_thomas/lib/python3.4/site-packages/matplotlib/__init__.py:1405: UserWarning: \n",
      "This call to matplotlib.use() has no effect because the backend has already\n",
      "been chosen; matplotlib.use() must be called *before* pylab, matplotlib.pyplot,\n",
      "or matplotlib.backends is imported for the first time.\n",
      "\n",
      "  warnings.warn(_use_error_msg)\n"
     ]
    }
   ],
   "source": [
    "# Let's try some simulations.\n",
    "import math\n",
    "\n",
    "import numpy as np\n",
    "import matplotlib.pyplot as plt\n",
    "import matplotlib.animation as animation\n",
    "\n",
    "from scipy.stats import norm\n",
    "\n",
    "%matplotlib inline\n",
    "import matplotlib\n",
    "# Force matplotlib to not use any Xwindows backend.\n",
    "matplotlib.use('Agg')\n"
   ]
  },
  {
   "cell_type": "code",
   "execution_count": 2,
   "metadata": {
    "collapsed": true
   },
   "outputs": [],
   "source": [
    "# Let us first generate some usefull objects\n",
    "\n",
    "def funcOfOperator(f, lambda_h, e_h, MassMat, StiffMat, x):\n",
    "    '''\n",
    "    param: f: a lambda-function.\n",
    "    param: lambda_h: of type R^N Eigenvalues of the discrete operator.\n",
    "    param: e_h: of type R^{n x n}. Eigenfunctions of the discrete Laplace operator.\n",
    "    parma: MassMat: The mass matrix for the given domain.\n",
    "    param: StiffMat: Stiffness matrix.\n",
    "    param: x: of type R^n. The function on which the operator should bet evluated.\n",
    "    return: of type R^n. The result as a function.\n",
    "    '''\n",
    "    pass\n",
    "\n",
    "def generateStiffness(N):\n",
    "    A = np.zeros((N,N))\n",
    "    h= 1/(N+1)\n",
    "    # We give it just explicite\n",
    "    \n",
    "    for i in range(N):\n",
    "        for j in range(N):\n",
    "            if i == j:\n",
    "                A[i,j] = 2/h\n",
    "            elif abs(i-j) == 1:\n",
    "                A[i,j] = -1/h\n",
    "            else:\n",
    "                pass\n",
    "    return A"
   ]
  },
  {
   "cell_type": "code",
   "execution_count": 60,
   "metadata": {},
   "outputs": [
    {
     "name": "stdout",
     "output_type": "stream",
     "text": [
      "0.005284000000017386\n",
      "0.010423000000002958\n",
      "0.017766999999992095\n",
      "0.04457500000000891\n",
      "0.07477500000004511\n",
      "0.10014100000000781\n",
      "0.15859300000005305\n",
      "0.21633500000001504\n",
      "0.29171800000000303\n",
      "0.2883380000000102\n",
      "0.36891000000002805\n",
      "0.4675940000000196\n",
      "0.6203279999999722\n",
      "0.7638369999999668\n",
      "1.1402120000000195\n",
      "1.3878399999999829\n",
      "1.6940320000000497\n",
      "2.3787000000000376\n",
      "2.505603000000008\n",
      "3.212040000000002\n",
      "4.118190000000027\n",
      "4.661685999999975\n",
      "5.500358000000006\n",
      "6.241401999999994\n",
      "7.413996999999995\n",
      "8.778441000000043\n",
      "9.65961500000003\n",
      "10.92417800000004\n",
      "12.62373500000001\n",
      "13.984027999999967\n",
      "16.235028999999997\n",
      "17.21250200000003\n",
      "19.045357000000024\n",
      "21.030618999999888\n",
      "22.754854000000023\n",
      "24.923877999999945\n",
      "26.915055999999936\n",
      "28.19547\n",
      "31.657789999999977\n"
     ]
    },
    {
     "data": {
      "image/png": "[encoded data removed]",
      "text/plain": [
       "<matplotlib.figure.Figure at 0x7f0d41f08eb8>"
      ]
     },
     "metadata": {},
     "output_type": "display_data"
    }
   ],
   "source": [
    "# Let's start a cluster\n",
    "import os\n",
    "import ipyparallel as ipp\n",
    "\n",
    "rc = ipp.Client()\n",
    "ar = rc[:].apply_async(os.getpid)\n",
    "pid_map = ar.get_dict()\n",
    "#######\n",
    "\n",
    "# Let us try to generate the eigenvalues and eigenvectors from the stiffness matrix.\n",
    "import time\n",
    "\n",
    "N = 10000\n",
    "h = 1/(N+1)\n",
    "\n",
    "# For this setting we give the stiffness matrix explicite\n",
    "\n",
    "\n",
    "timecosts = []\n",
    "dimensionRange = np.arange(50,2000, 50)\n",
    "\n",
    "for n in dimensionRange:\n",
    "    A = np.zeros((n,n))\n",
    "\n",
    "    for i in range(n):\n",
    "        for j in range(n):\n",
    "            if i == j:\n",
    "                A[i,j] = 2/h\n",
    "            elif abs(i-j) == 1:\n",
    "                A[i,j] = -1/h\n",
    "            else:\n",
    "                pass\n",
    "    \n",
    "    # Let's test how the duration of the svd calculation increses due to the dimension.\n",
    "    now = time.clock()\n",
    "    U, s, V = np.linalg.svd(A, full_matrices=True)\n",
    "    timecosts.append(time.clock() - now)\n",
    "    print(str(time.clock() - now))\n",
    "\n",
    "    \n",
    "plt.plot(dimensionRange, timecosts)\n",
    "plt.show()"
   ]
  },
  {
   "cell_type": "code",
   "execution_count": 5,
   "metadata": {},
   "outputs": [
    {
     "data": {
      "image/png": "[encoded data removed]",
      "text/plain": [
       "<matplotlib.figure.Figure at 0x7f0d42b633c8>"
      ]
     },
     "metadata": {},
     "output_type": "display_data"
    }
   ],
   "source": [
    "plt.ylabel('time (ms)')\n",
    "plt.xlabel('dimension')\n",
    "plt.plot(dimensionRange, timecosts)\n",
    "\n",
    "plt.title('Calculating costs of svd to dimension increase.')\n",
    "\n",
    "plt.show()"
   ]
  },
  {
   "cell_type": "code",
   "execution_count": 3,
   "metadata": {},
   "outputs": [],
   "source": [
    "# Let us define our sheme due to the discrete semigroups\n",
    "\n",
    "# Let us first do the deterministic version of the process:\n",
    "\n",
    "M = 100 # Time discretization\n",
    "k = 1/M\n",
    "N = 500 # Space discretization\n",
    "h = 1/(N+1)\n",
    "\n",
    "A = generateStiffness(N)\n",
    "\n",
    "# Generate the eigenpairs of A\n",
    "U, s, V = np.linalg.svd(A, full_matrices=True)\n",
    "\n",
    "# It should be just U*f(S)*V *v \n",
    "abstrLamb = lambda U, s, V, func, vec : np.dot( np.dot(U, np.dot(np.diag(func(s)), V)) , vec)\n",
    "\n",
    "\n",
    "\n",
    "\n"
   ]
  },
  {
   "cell_type": "code",
   "execution_count": 41,
   "metadata": {},
   "outputs": [
    {
     "data": {
      "image/png": "[encoded data removed]",
      "text/plain": [
       "<matplotlib.figure.Figure at 0x7f3d8cc04940>"
      ]
     },
     "metadata": {},
     "output_type": "display_data"
    }
   ],
   "source": [
    "fig, ax = plt.subplots()\n",
    "line, = ax.plot([], [], lw=2)\n",
    "ax.set_ylim(-1, 1)\n",
    "ax.set_xlim(0, 500)\n",
    "\n",
    "##### TEST ######\n",
    "u_0 = np.concatenate((np.arange(h, .5 ,h), np.arange(.5-h , 0, -h)))\n",
    "\n",
    "# u_0 = np.sin(4*math.pi* np.arange(h,1,h))\n",
    "v_0 = np.sin(3*math.pi* np.arange(h,1,h))\n",
    "\n",
    "n = 60\n",
    "\n",
    "t = n*k\n",
    "\n",
    "sink = lambda x : np.sin( t*x**(1/2) )\n",
    "cosk = lambda x : np.cos( t*x**(1/2) )\n",
    "\n",
    "Lambda_12 = lambda x : x**(-1/2)\n",
    "\n",
    "u = abstrLamb(U, s, V, cosk, u_0) + abstrLamb(U, s, V, Lambda_12, abstrLamb(U, s, V, sink, v_0))\n",
    "\n",
    "\n",
    "#plt.plot(range(N), v, 'r', range(N), tempResult, 'b', range(N), tempResult2, 'g')\n",
    "plt.plot(range(N), u, 'r')\n",
    "plt.show()"
   ]
  },
  {
   "cell_type": "code",
   "execution_count": 59,
   "metadata": {},
   "outputs": [
    {
     "data": {
      "text/plain": [
       "[<matplotlib.lines.Line2D at 0x7f0d42b0da58>,\n",
       " <matplotlib.lines.Line2D at 0x7f0d42b0d320>]"
      ]
     },
     "execution_count": 59,
     "metadata": {},
     "output_type": "execute_result"
    },
    {
     "data": {
      "image/png": "[encoded data removed]",
      "text/plain": [
       "<matplotlib.figure.Figure at 0x7f0d4225c4a8>"
      ]
     },
     "metadata": {},
     "output_type": "display_data"
    }
   ],
   "source": [
    "lambda_h = lambda j,h : 4/h * ( np.sin( h*j*math.pi/2 ) )**2 \n",
    "\n",
    "yaxis = lambda_h(np.array(range(N)), h)\n",
    "yaxis = np.sort(yaxis)\n",
    "#print(yaxis)\n",
    "#print(np.array(range(N))[-1::-1])\n",
    "plt.plot(range(N), yaxis[-1::-1],'r', range(N), s, 'g')\n",
    "#plt.plot(range(N), s)\n",
    "#plt.show()\n"
   ]
  },
  {
   "cell_type": "code",
   "execution_count": 17,
   "metadata": {
    "collapsed": true
   },
   "outputs": [],
   "source": [
    "\n",
    "# 1) An explicite representation the basis our orthonormal basis is given by.\n",
    "mu = lambda j,s : (j* math.pi)**(-s*2)\n",
    "\n",
    "e = lambda j : lambda y: math.sqrt(2)*np.sin(j* math.pi * y)\n",
    "\n",
    "# So we generate samples for for a truncated brownian motion.\n",
    "#J = 10\n",
    "#s=1\n",
    "\n",
    "# Let us generate gaußian process on \\R\n",
    "\n",
    "\n",
    "#dt = 0.1\n",
    "#N = 200\n",
    "\n",
    "# Initial value.\n",
    "x = 0.\n",
    "xValues = [x]\n",
    "\n",
    "for i in range(N):\n",
    "    x = x + norm.rvs(scale=dt)\n",
    "    xValues.append(x)\n",
    "    \n",
    "# Lets sample a trajectory of a more complex brownian motion.\n",
    "\n",
    "\n",
    "\n",
    "def GenBrownianMotion(mu, e, M, N, J, s,  seed=0):\n",
    "    '''\n",
    "    param: mu: lambda function for the eigenvalues of the covariance operator.\n",
    "    param: e: eigenfunctions of the covariance operator.\n",
    "    param: M: Number of time discretizations.\n",
    "    param: N: Number of spatial discretizations.\n",
    "    param: J: Number of the truncations\n",
    "    param: seed:\n",
    "    '''\n",
    "    randomField = np.zeros((M,N))\n",
    "    np.random.seed(seed=seed)\n",
    "    \n",
    "    # Let's generate J brownian motion trajectories on the time interval (0,1)\n",
    "    brownianMotions = np.zeros((J,M))\n",
    "    for j in range(M-1):\n",
    "        for i in range(J):\n",
    "            brownianMotions[i,j+1] = brownianMotions[i,j] + norm.rvs(scale=(1/M))\n",
    "    \n",
    "    # Let's generate the whole random field\n",
    "    # Time\n",
    "    for j in range(M):\n",
    "        # Space\n",
    "        for n in range(N):\n",
    "            # 'complexity'\n",
    "            tempValue = 0.\n",
    "            for i in range(J):\n",
    "                tempValue = tempValue + math.sqrt(mu(i+1,s))* e(i+1)(n/(N+1))*brownianMotions[i,j]\n",
    "            \n",
    "            randomField[j,n] = tempValue\n",
    "            \n",
    "    return randomField\n",
    "                \n"
   ]
  },
  {
   "cell_type": "code",
   "execution_count": 165,
   "metadata": {
    "collapsed": true
   },
   "outputs": [],
   "source": [
    "# Time discretization\n",
    "M = 100\n",
    "# Spatial discretizatin\n",
    "N = 100\n",
    "# Truncation\n",
    "J = 50\n",
    "s=0.5\n",
    "seed = 3\n",
    "randomField = GenBrownianMotion(mu, e, M, N, J, s, seed)\n",
    "\n",
    "timeAxes = np.arange(0, 1, 1/M)\n",
    "spaceAxes = np.arange(0,1, 1/N) # this is technically not true\n"
   ]
  },
  {
   "cell_type": "code",
   "execution_count": 168,
   "metadata": {},
   "outputs": [
    {
     "data": {
      "image/png": "[encoded data removed]",
      "text/plain": [
       "<matplotlib.figure.Figure at 0x7fc1db4684a8>"
      ]
     },
     "metadata": {},
     "output_type": "display_data"
    },
    {
     "name": "stdout",
     "output_type": "stream",
     "text": [
      "(100, 100)\n"
     ]
    }
   ],
   "source": [
    "n=80\n",
    "m=8\n",
    "# First set up the figure, the axis, and the plot element we want to animate\n",
    "fig = plt.figure()\n",
    "ax = plt.axes(xlim=(0, 1), ylim=(-1, 1))\n",
    "line, = ax.plot([], [], lw=2)\n",
    "\n",
    "def init():\n",
    "    line.set_data([], [])\n",
    "    return line,\n",
    "\n",
    "\n",
    "def animationTime(i):\n",
    "    line.set_data(spaceAxes, randomField[i, :])\n",
    "    \n",
    "    return line,\n",
    "\n",
    "def animationSpace(i):\n",
    "    pass\n",
    "\n",
    "\n",
    "\n",
    "#anim = animation.FuncAnimation(fig, animationTime, frames=M, interval=100, blit=True)\n",
    "\n",
    "plt.plot(spaceAxes, randomField[-1, :])\n",
    "\n",
    "plt.show()\n",
    "\n",
    "print(randomField.shape)"
   ]
  }
 ],
 "metadata": {
  "kernelspec": {
   "display_name": "Python 3",
   "language": "python",
   "name": "python3"
  },
  "language_info": {
   "codemirror_mode": {
    "name": "ipython",
    "version": 3
   },
   "file_extension": ".py",
   "mimetype": "text/x-python",
   "name": "python",
   "nbconvert_exporter": "python",
   "pygments_lexer": "ipython3",
   "version": "3.6.4"
  }
 },
 "nbformat": 4,
 "nbformat_minor": 2
}
